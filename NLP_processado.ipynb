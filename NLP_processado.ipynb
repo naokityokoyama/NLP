{
  "nbformat": 4,
  "nbformat_minor": 0,
  "metadata": {
    "colab": {
      "name": "NLP_processado.ipynb",
      "provenance": [],
      "collapsed_sections": [],
      "authorship_tag": "ABX9TyNWBrhVDeUa4TzskT03qO3B",
      "include_colab_link": true
    },
    "kernelspec": {
      "name": "python3",
      "display_name": "Python 3"
    }
  },
  "cells": [
    {
      "cell_type": "markdown",
      "metadata": {
        "id": "view-in-github",
        "colab_type": "text"
      },
      "source": [
        "<a href=\"https://colab.research.google.com/github/naokityokoyama/NLP/blob/main/NLP_processado.ipynb\" target=\"_parent\"><img src=\"https://colab.research.google.com/assets/colab-badge.svg\" alt=\"Open In Colab\"/></a>"
      ]
    },
    {
      "cell_type": "code",
      "metadata": {
        "id": "hX6imAnD-udn"
      },
      "source": [
        "import pandas as pd\n",
        "import nltk\n",
        "#nltk.download('all')\n",
        "from sklearn.feature_extraction.text import CountVectorizer\n",
        "import seaborn as sns"
      ],
      "execution_count": 19,
      "outputs": []
    },
    {
      "cell_type": "code",
      "metadata": {
        "id": "jY8hfmii6xJ7",
        "outputId": "98bec74c-9c91-4f16-e023-dd93966294de",
        "colab": {
          "base_uri": "https://localhost:8080/",
          "height": 35
        }
      },
      "source": [
        "#unidecode \n",
        "#pip install unidecode\n",
        "from unidecode import unidecode\n",
        "texto = 'Ótimo pésimo não é tão'\n",
        "unidecode(texto)\n"
      ],
      "execution_count": 4,
      "outputs": [
        {
          "output_type": "execute_result",
          "data": {
            "application/vnd.google.colaboratory.intrinsic+json": {
              "type": "string"
            },
            "text/plain": [
              "'Otimo pesimo nao e tao'"
            ]
          },
          "metadata": {
            "tags": []
          },
          "execution_count": 4
        }
      ]
    },
    {
      "cell_type": "code",
      "metadata": {
        "id": "Fl3I_VP3Tv2P"
      },
      "source": [
        "base = [('eu sou admirada por muitos','alegria'),\n",
        "        ('me sinto completamente amado','alegria'),\n",
        "        ('amar e maravilhoso','alegria'),\n",
        "        ('estou me sentindo muito animado novamente','alegria'),\n",
        "        ('eu estou muito bem hoje','alegria'),\n",
        "        ('que belo dia para dirigir um carro novo','alegria'),\n",
        "        ('o dia está muito bonito','alegria'),\n",
        "        ('estou contente com o resultado do teste que fiz no dia de ontem','alegria'),\n",
        "        ('o amor e lindo','alegria'),\n",
        "        ('nossa amizade e amor vai durar para sempre', 'alegria'),\n",
        "        ('estou amedrontado', 'medo'),\n",
        "        ('ele esta me ameacando a dias', 'medo'),\n",
        "        ('isso me deixa apavorada', 'medo'),\n",
        "        ('este lugar e apavorante', 'medo'),\n",
        "        ('se perdermos outro jogo seremos eliminados e isso me deixa com pavor', 'medo'),\n",
        "        ('tome cuidado com o lobisomem', 'medo'),\n",
        "        ('se eles descobrirem estamos encrencados', 'medo'),\n",
        "        ('estou tremendo de medo', 'medo'),\n",
        "        ('eu tenho muito medo dele', 'medo'),\n",
        "        ('estou com medo do resultado dos meus testes', 'medo')]"
      ],
      "execution_count": 5,
      "outputs": []
    },
    {
      "cell_type": "code",
      "metadata": {
        "id": "1HuSU4VeiA9z",
        "outputId": "53eb93e6-e5ff-4157-8c07-df7a815e5f75",
        "colab": {
          "base_uri": "https://localhost:8080/",
          "height": 204
        }
      },
      "source": [
        "df = pd.DataFrame(base, columns=['frases', 'sentimento'])\n",
        "df.head()"
      ],
      "execution_count": 6,
      "outputs": [
        {
          "output_type": "execute_result",
          "data": {
            "text/html": [
              "<div>\n",
              "<style scoped>\n",
              "    .dataframe tbody tr th:only-of-type {\n",
              "        vertical-align: middle;\n",
              "    }\n",
              "\n",
              "    .dataframe tbody tr th {\n",
              "        vertical-align: top;\n",
              "    }\n",
              "\n",
              "    .dataframe thead th {\n",
              "        text-align: right;\n",
              "    }\n",
              "</style>\n",
              "<table border=\"1\" class=\"dataframe\">\n",
              "  <thead>\n",
              "    <tr style=\"text-align: right;\">\n",
              "      <th></th>\n",
              "      <th>frases</th>\n",
              "      <th>sentimento</th>\n",
              "    </tr>\n",
              "  </thead>\n",
              "  <tbody>\n",
              "    <tr>\n",
              "      <th>0</th>\n",
              "      <td>eu sou admirada por muitos</td>\n",
              "      <td>alegria</td>\n",
              "    </tr>\n",
              "    <tr>\n",
              "      <th>1</th>\n",
              "      <td>me sinto completamente amado</td>\n",
              "      <td>alegria</td>\n",
              "    </tr>\n",
              "    <tr>\n",
              "      <th>2</th>\n",
              "      <td>amar e maravilhoso</td>\n",
              "      <td>alegria</td>\n",
              "    </tr>\n",
              "    <tr>\n",
              "      <th>3</th>\n",
              "      <td>estou me sentindo muito animado novamente</td>\n",
              "      <td>alegria</td>\n",
              "    </tr>\n",
              "    <tr>\n",
              "      <th>4</th>\n",
              "      <td>eu estou muito bem hoje</td>\n",
              "      <td>alegria</td>\n",
              "    </tr>\n",
              "  </tbody>\n",
              "</table>\n",
              "</div>"
            ],
            "text/plain": [
              "                                      frases sentimento\n",
              "0                 eu sou admirada por muitos    alegria\n",
              "1               me sinto completamente amado    alegria\n",
              "2                         amar e maravilhoso    alegria\n",
              "3  estou me sentindo muito animado novamente    alegria\n",
              "4                    eu estou muito bem hoje    alegria"
            ]
          },
          "metadata": {
            "tags": []
          },
          "execution_count": 6
        }
      ]
    },
    {
      "cell_type": "code",
      "metadata": {
        "id": "FuIdsdhj6m37",
        "outputId": "8628aef2-41fd-4de6-d1b3-a881be4e4d4e",
        "colab": {
          "base_uri": "https://localhost:8080/",
          "height": 34
        }
      },
      "source": [
        "#Toda a base em uma unica string \n",
        "todas_palavras = ' '.join([texto for texto in df.frases])\n"
      ],
      "execution_count": 9,
      "outputs": [
        {
          "output_type": "execute_result",
          "data": {
            "text/plain": [
              "str"
            ]
          },
          "metadata": {
            "tags": []
          },
          "execution_count": 9
        }
      ]
    },
    {
      "cell_type": "code",
      "metadata": {
        "id": "v00tz1dBHVWu",
        "outputId": "0da852f6-1746-4b27-ba54-56c484cbb9e4",
        "colab": {
          "base_uri": "https://localhost:8080/",
          "height": 34
        }
      },
      "source": [
        "#tokenizar\n",
        "tolken = nltk.tokenize.WhitespaceTokenizer()\n",
        "palavras_tolken = tolken.tokenize(todas_palavras)\n",
        "print (f'A quantidade total de palavras é {len(palavras_tolken)}')"
      ],
      "execution_count": 45,
      "outputs": [
        {
          "output_type": "stream",
          "text": [
            "A quantidade total de palavras é 116\n"
          ],
          "name": "stdout"
        }
      ]
    },
    {
      "cell_type": "code",
      "metadata": {
        "id": "I2rJb0dGHmVT"
      },
      "source": [
        "#frequencia \n",
        "frequencia = nltk.FreqDist(palavras_tolken)\n",
        "frequencia.keys()\n",
        "frequencia.values()\n",
        "df_freq = pd.DataFrame({'Palavras': frequencia.keys(), 'Valor': frequencia.values()})\n"
      ],
      "execution_count": 18,
      "outputs": []
    },
    {
      "cell_type": "code",
      "metadata": {
        "id": "mJqvJ21pIkdV"
      },
      "source": [
        "#as 10 mais \n",
        "df10 = df_freq.nlargest(columns='Valor', n=10)"
      ],
      "execution_count": 27,
      "outputs": []
    },
    {
      "cell_type": "code",
      "metadata": {
        "id": "5BdFp378IMo-",
        "outputId": "a93f89f4-78b0-4175-fa4e-1ad7e43cc3ec",
        "colab": {
          "base_uri": "https://localhost:8080/",
          "height": 296
        }
      },
      "source": [
        "sns.barplot(data=df10 , x='Palavras', y='Valor', color='gray')"
      ],
      "execution_count": 29,
      "outputs": [
        {
          "output_type": "execute_result",
          "data": {
            "text/plain": [
              "<matplotlib.axes._subplots.AxesSubplot at 0x7f7ece3250b8>"
            ]
          },
          "metadata": {
            "tags": []
          },
          "execution_count": 29
        },
        {
          "output_type": "display_data",
          "data": {
            "image/png": "[encoded data removed]",
            "text/plain": [
              "<Figure size 432x288 with 1 Axes>"
            ]
          },
          "metadata": {
            "tags": [],
            "needs_background": "light"
          }
        }
      ]
    },
    {
      "cell_type": "code",
      "metadata": {
        "id": "H5zJTRDyifQp",
        "outputId": "20aa7122-af2f-4b27-9994-4f363281a938",
        "colab": {
          "base_uri": "https://localhost:8080/",
          "height": 374
        }
      },
      "source": [
        "#lower\n",
        "frases = df.frases.str.lower()\n",
        "frases"
      ],
      "execution_count": 30,
      "outputs": [
        {
          "output_type": "execute_result",
          "data": {
            "text/plain": [
              "0                            eu sou admirada por muitos\n",
              "1                          me sinto completamente amado\n",
              "2                                    amar e maravilhoso\n",
              "3             estou me sentindo muito animado novamente\n",
              "4                               eu estou muito bem hoje\n",
              "5               que belo dia para dirigir um carro novo\n",
              "6                               o dia está muito bonito\n",
              "7     estou contente com o resultado do teste que fi...\n",
              "8                                        o amor e lindo\n",
              "9            nossa amizade e amor vai durar para sempre\n",
              "10                                    estou amedrontado\n",
              "11                         ele esta me ameacando a dias\n",
              "12                              isso me deixa apavorada\n",
              "13                              este lugar e apavorante\n",
              "14    se perdermos outro jogo seremos eliminados e i...\n",
              "15                         tome cuidado com o lobisomem\n",
              "16              se eles descobrirem estamos encrencados\n",
              "17                               estou tremendo de medo\n",
              "18                             eu tenho muito medo dele\n",
              "19          estou com medo do resultado dos meus testes\n",
              "Name: frases, dtype: object"
            ]
          },
          "metadata": {
            "tags": []
          },
          "execution_count": 30
        }
      ]
    },
    {
      "cell_type": "code",
      "metadata": {
        "id": "Kc-TnV4Hkmy1",
        "outputId": "8427047b-7f64-4466-8a6b-cc075fcc1125",
        "colab": {
          "base_uri": "https://localhost:8080/",
          "height": 357
        }
      },
      "source": [
        "#retirar pontuação\n",
        "import string\n",
        "sem_pontos = [ponto for ponto in frases if ponto not in string.punctuation]\n",
        "sem_pontos"
      ],
      "execution_count": 31,
      "outputs": [
        {
          "output_type": "execute_result",
          "data": {
            "text/plain": [
              "['eu sou admirada por muitos',\n",
              " 'me sinto completamente amado',\n",
              " 'amar e maravilhoso',\n",
              " 'estou me sentindo muito animado novamente',\n",
              " 'eu estou muito bem hoje',\n",
              " 'que belo dia para dirigir um carro novo',\n",
              " 'o dia está muito bonito',\n",
              " 'estou contente com o resultado do teste que fiz no dia de ontem',\n",
              " 'o amor e lindo',\n",
              " 'nossa amizade e amor vai durar para sempre',\n",
              " 'estou amedrontado',\n",
              " 'ele esta me ameacando a dias',\n",
              " 'isso me deixa apavorada',\n",
              " 'este lugar e apavorante',\n",
              " 'se perdermos outro jogo seremos eliminados e isso me deixa com pavor',\n",
              " 'tome cuidado com o lobisomem',\n",
              " 'se eles descobrirem estamos encrencados',\n",
              " 'estou tremendo de medo',\n",
              " 'eu tenho muito medo dele',\n",
              " 'estou com medo do resultado dos meus testes']"
            ]
          },
          "metadata": {
            "tags": []
          },
          "execution_count": 31
        }
      ]
    },
    {
      "cell_type": "code",
      "metadata": {
        "id": "aOVgCRkblrzF"
      },
      "source": [
        "#stopword\n",
        "stopword =  nltk.corpus.stopwords.words('portuguese')\n",
        "lista_pre1 = []\n",
        "for i in sem_pontos: \n",
        "  sem_stopwords = [stop for stop in i.split() if stop not in stopword]\n",
        "  lista_pre1.append(sem_stopwords)\n"
      ],
      "execution_count": 32,
      "outputs": []
    },
    {
      "cell_type": "code",
      "metadata": {
        "id": "xCqfpb0amPyR",
        "outputId": "c6cd1eba-70fb-47bb-d3ae-2911e8a087bc",
        "colab": {
          "base_uri": "https://localhost:8080/",
          "height": 34
        }
      },
      "source": [
        "print (f'sem pontos: {sem_pontos[0]} | lista_pre1: {lista_pre1[0]}')"
      ],
      "execution_count": 33,
      "outputs": [
        {
          "output_type": "stream",
          "text": [
            "sem pontos: eu sou admirada por muitos | lista_pre1: ['admirada', 'muitos']\n"
          ],
          "name": "stdout"
        }
      ]
    },
    {
      "cell_type": "code",
      "metadata": {
        "id": "ZQ5zX6UQ08Bo",
        "outputId": "c8866f50-0fc4-4762-ad4f-3611bdfe4389",
        "colab": {
          "base_uri": "https://localhost:8080/",
          "height": 357
        }
      },
      "source": [
        "#join\n",
        "lista_pre2 = []\n",
        "for i in range(len(lista_pre1)):\n",
        "  lista_pre2.append(' '.join(lista_pre1[i]))\n",
        "lista_pre2"
      ],
      "execution_count": 34,
      "outputs": [
        {
          "output_type": "execute_result",
          "data": {
            "text/plain": [
              "['admirada muitos',\n",
              " 'sinto completamente amado',\n",
              " 'amar maravilhoso',\n",
              " 'sentindo animado novamente',\n",
              " 'bem hoje',\n",
              " 'belo dia dirigir carro novo',\n",
              " 'dia bonito',\n",
              " 'contente resultado teste fiz dia ontem',\n",
              " 'amor lindo',\n",
              " 'amizade amor vai durar sempre',\n",
              " 'amedrontado',\n",
              " 'ameacando dias',\n",
              " 'deixa apavorada',\n",
              " 'lugar apavorante',\n",
              " 'perdermos outro jogo eliminados deixa pavor',\n",
              " 'tome cuidado lobisomem',\n",
              " 'descobrirem encrencados',\n",
              " 'tremendo medo',\n",
              " 'medo',\n",
              " 'medo resultado testes']"
            ]
          },
          "metadata": {
            "tags": []
          },
          "execution_count": 34
        }
      ]
    },
    {
      "cell_type": "code",
      "metadata": {
        "id": "7aQeK0q0pFOu"
      },
      "source": [
        "#Stem\n",
        "stemmer = nltk.stem.RSLPStemmer()\n",
        "lista_pre3 = []\n",
        "for i in lista_pre2:\n",
        "  st = [str(stemmer.stem(st)) for st in i.split()]\n",
        "  lista_pre3.append(st)\n"
      ],
      "execution_count": 35,
      "outputs": []
    },
    {
      "cell_type": "code",
      "metadata": {
        "id": "-WuU6Y9qvfWq",
        "outputId": "426899d1-4bcf-4572-ad0c-b3b96aedf72f",
        "colab": {
          "base_uri": "https://localhost:8080/",
          "height": 357
        }
      },
      "source": [
        "lista_pre3"
      ],
      "execution_count": 36,
      "outputs": [
        {
          "output_type": "execute_result",
          "data": {
            "text/plain": [
              "[['admir', 'muit'],\n",
              " ['sint', 'complet', 'am'],\n",
              " ['am', 'maravilh'],\n",
              " ['sent', 'anim', 'nov'],\n",
              " ['bem', 'hoj'],\n",
              " ['bel', 'dia', 'dirig', 'carr', 'nov'],\n",
              " ['dia', 'bonit'],\n",
              " ['cont', 'result', 'test', 'fiz', 'dia', 'ont'],\n",
              " ['am', 'lind'],\n",
              " ['amizad', 'am', 'vai', 'dur', 'sempr'],\n",
              " ['amedront'],\n",
              " ['ameac', 'dia'],\n",
              " ['deix', 'apavor'],\n",
              " ['lug', 'apavor'],\n",
              " ['perd', 'outr', 'jog', 'elimin', 'deix', 'pav'],\n",
              " ['tom', 'cuid', 'lobisom'],\n",
              " ['descobr', 'encrenc'],\n",
              " ['trem', 'med'],\n",
              " ['med'],\n",
              " ['med', 'result', 'test']]"
            ]
          },
          "metadata": {
            "tags": []
          },
          "execution_count": 36
        }
      ]
    },
    {
      "cell_type": "code",
      "metadata": {
        "id": "LOpG9bqBwPaK",
        "outputId": "d4b5035f-77c6-4db6-ef9e-15128c36ef52",
        "colab": {
          "base_uri": "https://localhost:8080/",
          "height": 357
        }
      },
      "source": [
        "#join\n",
        "lista_pre4 = []\n",
        "for i in range(len(lista_pre3)):\n",
        "  lista_pre4.append(' '.join(lista_pre3[i]))\n",
        "lista_pre4  "
      ],
      "execution_count": 37,
      "outputs": [
        {
          "output_type": "execute_result",
          "data": {
            "text/plain": [
              "['admir muit',\n",
              " 'sint complet am',\n",
              " 'am maravilh',\n",
              " 'sent anim nov',\n",
              " 'bem hoj',\n",
              " 'bel dia dirig carr nov',\n",
              " 'dia bonit',\n",
              " 'cont result test fiz dia ont',\n",
              " 'am lind',\n",
              " 'amizad am vai dur sempr',\n",
              " 'amedront',\n",
              " 'ameac dia',\n",
              " 'deix apavor',\n",
              " 'lug apavor',\n",
              " 'perd outr jog elimin deix pav',\n",
              " 'tom cuid lobisom',\n",
              " 'descobr encrenc',\n",
              " 'trem med',\n",
              " 'med',\n",
              " 'med result test']"
            ]
          },
          "metadata": {
            "tags": []
          },
          "execution_count": 37
        }
      ]
    },
    {
      "cell_type": "code",
      "metadata": {
        "id": "lIcgOSPF_suR",
        "outputId": "981d064d-32c8-4d6a-bc8b-f67d62d98962",
        "colab": {
          "base_uri": "https://localhost:8080/",
          "height": 204
        }
      },
      "source": [
        "#Voltando ao DF\n",
        "\n",
        "df.head()"
      ],
      "execution_count": 38,
      "outputs": [
        {
          "output_type": "execute_result",
          "data": {
            "text/html": [
              "<div>\n",
              "<style scoped>\n",
              "    .dataframe tbody tr th:only-of-type {\n",
              "        vertical-align: middle;\n",
              "    }\n",
              "\n",
              "    .dataframe tbody tr th {\n",
              "        vertical-align: top;\n",
              "    }\n",
              "\n",
              "    .dataframe thead th {\n",
              "        text-align: right;\n",
              "    }\n",
              "</style>\n",
              "<table border=\"1\" class=\"dataframe\">\n",
              "  <thead>\n",
              "    <tr style=\"text-align: right;\">\n",
              "      <th></th>\n",
              "      <th>frases</th>\n",
              "      <th>sentimento</th>\n",
              "    </tr>\n",
              "  </thead>\n",
              "  <tbody>\n",
              "    <tr>\n",
              "      <th>0</th>\n",
              "      <td>eu sou admirada por muitos</td>\n",
              "      <td>alegria</td>\n",
              "    </tr>\n",
              "    <tr>\n",
              "      <th>1</th>\n",
              "      <td>me sinto completamente amado</td>\n",
              "      <td>alegria</td>\n",
              "    </tr>\n",
              "    <tr>\n",
              "      <th>2</th>\n",
              "      <td>amar e maravilhoso</td>\n",
              "      <td>alegria</td>\n",
              "    </tr>\n",
              "    <tr>\n",
              "      <th>3</th>\n",
              "      <td>estou me sentindo muito animado novamente</td>\n",
              "      <td>alegria</td>\n",
              "    </tr>\n",
              "    <tr>\n",
              "      <th>4</th>\n",
              "      <td>eu estou muito bem hoje</td>\n",
              "      <td>alegria</td>\n",
              "    </tr>\n",
              "  </tbody>\n",
              "</table>\n",
              "</div>"
            ],
            "text/plain": [
              "                                      frases sentimento\n",
              "0                 eu sou admirada por muitos    alegria\n",
              "1               me sinto completamente amado    alegria\n",
              "2                         amar e maravilhoso    alegria\n",
              "3  estou me sentindo muito animado novamente    alegria\n",
              "4                    eu estou muito bem hoje    alegria"
            ]
          },
          "metadata": {
            "tags": []
          },
          "execution_count": 38
        }
      ]
    },
    {
      "cell_type": "code",
      "metadata": {
        "id": "ZAY-0RZu_wY6"
      },
      "source": [
        "df['frases_processadas'] = lista_pre4"
      ],
      "execution_count": 39,
      "outputs": []
    },
    {
      "cell_type": "code",
      "metadata": {
        "id": "V94aqcdC_0xg",
        "outputId": "2dc06ca2-27ab-49c5-fb62-17aa066de17e",
        "colab": {
          "base_uri": "https://localhost:8080/",
          "height": 204
        }
      },
      "source": [
        "df.head()"
      ],
      "execution_count": 40,
      "outputs": [
        {
          "output_type": "execute_result",
          "data": {
            "text/html": [
              "<div>\n",
              "<style scoped>\n",
              "    .dataframe tbody tr th:only-of-type {\n",
              "        vertical-align: middle;\n",
              "    }\n",
              "\n",
              "    .dataframe tbody tr th {\n",
              "        vertical-align: top;\n",
              "    }\n",
              "\n",
              "    .dataframe thead th {\n",
              "        text-align: right;\n",
              "    }\n",
              "</style>\n",
              "<table border=\"1\" class=\"dataframe\">\n",
              "  <thead>\n",
              "    <tr style=\"text-align: right;\">\n",
              "      <th></th>\n",
              "      <th>frases</th>\n",
              "      <th>sentimento</th>\n",
              "      <th>frases_processadas</th>\n",
              "    </tr>\n",
              "  </thead>\n",
              "  <tbody>\n",
              "    <tr>\n",
              "      <th>0</th>\n",
              "      <td>eu sou admirada por muitos</td>\n",
              "      <td>alegria</td>\n",
              "      <td>admir muit</td>\n",
              "    </tr>\n",
              "    <tr>\n",
              "      <th>1</th>\n",
              "      <td>me sinto completamente amado</td>\n",
              "      <td>alegria</td>\n",
              "      <td>sint complet am</td>\n",
              "    </tr>\n",
              "    <tr>\n",
              "      <th>2</th>\n",
              "      <td>amar e maravilhoso</td>\n",
              "      <td>alegria</td>\n",
              "      <td>am maravilh</td>\n",
              "    </tr>\n",
              "    <tr>\n",
              "      <th>3</th>\n",
              "      <td>estou me sentindo muito animado novamente</td>\n",
              "      <td>alegria</td>\n",
              "      <td>sent anim nov</td>\n",
              "    </tr>\n",
              "    <tr>\n",
              "      <th>4</th>\n",
              "      <td>eu estou muito bem hoje</td>\n",
              "      <td>alegria</td>\n",
              "      <td>bem hoj</td>\n",
              "    </tr>\n",
              "  </tbody>\n",
              "</table>\n",
              "</div>"
            ],
            "text/plain": [
              "                                      frases sentimento frases_processadas\n",
              "0                 eu sou admirada por muitos    alegria         admir muit\n",
              "1               me sinto completamente amado    alegria    sint complet am\n",
              "2                         amar e maravilhoso    alegria        am maravilh\n",
              "3  estou me sentindo muito animado novamente    alegria      sent anim nov\n",
              "4                    eu estou muito bem hoje    alegria            bem hoj"
            ]
          },
          "metadata": {
            "tags": []
          },
          "execution_count": 40
        }
      ]
    },
    {
      "cell_type": "code",
      "metadata": {
        "id": "nW2SaVeCAGzg",
        "outputId": "574846e9-3465-4f52-cc33-61bc84ec0125",
        "colab": {
          "base_uri": "https://localhost:8080/",
          "height": 669
        }
      },
      "source": [
        "df = df[['frases', 'frases_processadas', 'sentimento']]\n",
        "df = df.sort_index(0)\n",
        "df"
      ],
      "execution_count": 41,
      "outputs": [
        {
          "output_type": "execute_result",
          "data": {
            "text/html": [
              "<div>\n",
              "<style scoped>\n",
              "    .dataframe tbody tr th:only-of-type {\n",
              "        vertical-align: middle;\n",
              "    }\n",
              "\n",
              "    .dataframe tbody tr th {\n",
              "        vertical-align: top;\n",
              "    }\n",
              "\n",
              "    .dataframe thead th {\n",
              "        text-align: right;\n",
              "    }\n",
              "</style>\n",
              "<table border=\"1\" class=\"dataframe\">\n",
              "  <thead>\n",
              "    <tr style=\"text-align: right;\">\n",
              "      <th></th>\n",
              "      <th>frases</th>\n",
              "      <th>frases_processadas</th>\n",
              "      <th>sentimento</th>\n",
              "    </tr>\n",
              "  </thead>\n",
              "  <tbody>\n",
              "    <tr>\n",
              "      <th>0</th>\n",
              "      <td>eu sou admirada por muitos</td>\n",
              "      <td>admir muit</td>\n",
              "      <td>alegria</td>\n",
              "    </tr>\n",
              "    <tr>\n",
              "      <th>1</th>\n",
              "      <td>me sinto completamente amado</td>\n",
              "      <td>sint complet am</td>\n",
              "      <td>alegria</td>\n",
              "    </tr>\n",
              "    <tr>\n",
              "      <th>2</th>\n",
              "      <td>amar e maravilhoso</td>\n",
              "      <td>am maravilh</td>\n",
              "      <td>alegria</td>\n",
              "    </tr>\n",
              "    <tr>\n",
              "      <th>3</th>\n",
              "      <td>estou me sentindo muito animado novamente</td>\n",
              "      <td>sent anim nov</td>\n",
              "      <td>alegria</td>\n",
              "    </tr>\n",
              "    <tr>\n",
              "      <th>4</th>\n",
              "      <td>eu estou muito bem hoje</td>\n",
              "      <td>bem hoj</td>\n",
              "      <td>alegria</td>\n",
              "    </tr>\n",
              "    <tr>\n",
              "      <th>5</th>\n",
              "      <td>que belo dia para dirigir um carro novo</td>\n",
              "      <td>bel dia dirig carr nov</td>\n",
              "      <td>alegria</td>\n",
              "    </tr>\n",
              "    <tr>\n",
              "      <th>6</th>\n",
              "      <td>o dia está muito bonito</td>\n",
              "      <td>dia bonit</td>\n",
              "      <td>alegria</td>\n",
              "    </tr>\n",
              "    <tr>\n",
              "      <th>7</th>\n",
              "      <td>estou contente com o resultado do teste que fi...</td>\n",
              "      <td>cont result test fiz dia ont</td>\n",
              "      <td>alegria</td>\n",
              "    </tr>\n",
              "    <tr>\n",
              "      <th>8</th>\n",
              "      <td>o amor e lindo</td>\n",
              "      <td>am lind</td>\n",
              "      <td>alegria</td>\n",
              "    </tr>\n",
              "    <tr>\n",
              "      <th>9</th>\n",
              "      <td>nossa amizade e amor vai durar para sempre</td>\n",
              "      <td>amizad am vai dur sempr</td>\n",
              "      <td>alegria</td>\n",
              "    </tr>\n",
              "    <tr>\n",
              "      <th>10</th>\n",
              "      <td>estou amedrontado</td>\n",
              "      <td>amedront</td>\n",
              "      <td>medo</td>\n",
              "    </tr>\n",
              "    <tr>\n",
              "      <th>11</th>\n",
              "      <td>ele esta me ameacando a dias</td>\n",
              "      <td>ameac dia</td>\n",
              "      <td>medo</td>\n",
              "    </tr>\n",
              "    <tr>\n",
              "      <th>12</th>\n",
              "      <td>isso me deixa apavorada</td>\n",
              "      <td>deix apavor</td>\n",
              "      <td>medo</td>\n",
              "    </tr>\n",
              "    <tr>\n",
              "      <th>13</th>\n",
              "      <td>este lugar e apavorante</td>\n",
              "      <td>lug apavor</td>\n",
              "      <td>medo</td>\n",
              "    </tr>\n",
              "    <tr>\n",
              "      <th>14</th>\n",
              "      <td>se perdermos outro jogo seremos eliminados e i...</td>\n",
              "      <td>perd outr jog elimin deix pav</td>\n",
              "      <td>medo</td>\n",
              "    </tr>\n",
              "    <tr>\n",
              "      <th>15</th>\n",
              "      <td>tome cuidado com o lobisomem</td>\n",
              "      <td>tom cuid lobisom</td>\n",
              "      <td>medo</td>\n",
              "    </tr>\n",
              "    <tr>\n",
              "      <th>16</th>\n",
              "      <td>se eles descobrirem estamos encrencados</td>\n",
              "      <td>descobr encrenc</td>\n",
              "      <td>medo</td>\n",
              "    </tr>\n",
              "    <tr>\n",
              "      <th>17</th>\n",
              "      <td>estou tremendo de medo</td>\n",
              "      <td>trem med</td>\n",
              "      <td>medo</td>\n",
              "    </tr>\n",
              "    <tr>\n",
              "      <th>18</th>\n",
              "      <td>eu tenho muito medo dele</td>\n",
              "      <td>med</td>\n",
              "      <td>medo</td>\n",
              "    </tr>\n",
              "    <tr>\n",
              "      <th>19</th>\n",
              "      <td>estou com medo do resultado dos meus testes</td>\n",
              "      <td>med result test</td>\n",
              "      <td>medo</td>\n",
              "    </tr>\n",
              "  </tbody>\n",
              "</table>\n",
              "</div>"
            ],
            "text/plain": [
              "                                               frases  ... sentimento\n",
              "0                          eu sou admirada por muitos  ...    alegria\n",
              "1                        me sinto completamente amado  ...    alegria\n",
              "2                                  amar e maravilhoso  ...    alegria\n",
              "3           estou me sentindo muito animado novamente  ...    alegria\n",
              "4                             eu estou muito bem hoje  ...    alegria\n",
              "5             que belo dia para dirigir um carro novo  ...    alegria\n",
              "6                             o dia está muito bonito  ...    alegria\n",
              "7   estou contente com o resultado do teste que fi...  ...    alegria\n",
              "8                                      o amor e lindo  ...    alegria\n",
              "9          nossa amizade e amor vai durar para sempre  ...    alegria\n",
              "10                                  estou amedrontado  ...       medo\n",
              "11                       ele esta me ameacando a dias  ...       medo\n",
              "12                            isso me deixa apavorada  ...       medo\n",
              "13                            este lugar e apavorante  ...       medo\n",
              "14  se perdermos outro jogo seremos eliminados e i...  ...       medo\n",
              "15                       tome cuidado com o lobisomem  ...       medo\n",
              "16            se eles descobrirem estamos encrencados  ...       medo\n",
              "17                             estou tremendo de medo  ...       medo\n",
              "18                           eu tenho muito medo dele  ...       medo\n",
              "19        estou com medo do resultado dos meus testes  ...       medo\n",
              "\n",
              "[20 rows x 3 columns]"
            ]
          },
          "metadata": {
            "tags": []
          },
          "execution_count": 41
        }
      ]
    },
    {
      "cell_type": "code",
      "metadata": {
        "id": "qX4TX0vqJoWK"
      },
      "source": [
        "#join Series para string\n",
        "todas_palavras_processadas = ' '.join([texto for texto in df.frases_processadas])"
      ],
      "execution_count": 43,
      "outputs": []
    },
    {
      "cell_type": "code",
      "metadata": {
        "id": "b1Gk6gprJ4GP",
        "outputId": "017828ce-ed57-4e07-de16-6cb23b57ce7d",
        "colab": {
          "base_uri": "https://localhost:8080/",
          "height": 34
        }
      },
      "source": [
        "#Tolkenizar final\n",
        "tolken_processada = tolken.tokenize(todas_palavras_processadas)\n",
        "\n",
        "print (f'A quantidade final de palavras foi de {len(tolken_processada)}')"
      ],
      "execution_count": 48,
      "outputs": [
        {
          "output_type": "stream",
          "text": [
            "A quantidade final de palavras foi de 56\n"
          ],
          "name": "stdout"
        }
      ]
    },
    {
      "cell_type": "code",
      "metadata": {
        "id": "oleZHKwZKjSl"
      },
      "source": [
        "# frequencia final\n",
        "\n",
        "freq_final = nltk.FreqDist(tolken_processada)\n",
        "\n",
        "df_freq_final = pd.DataFrame({'Palavras':freq_final.keys(), 'Valor': freq_final.values()})\n",
        "\n",
        "df10_final = df_freq_final.nlargest(columns='Valor', n=10)"
      ],
      "execution_count": 53,
      "outputs": []
    },
    {
      "cell_type": "code",
      "metadata": {
        "id": "uHerX4w1LPku",
        "outputId": "79ed76d1-224c-45ba-f942-29511aff98e3",
        "colab": {
          "base_uri": "https://localhost:8080/",
          "height": 296
        }
      },
      "source": [
        "sns.barplot(data = df10_final, x='Palavras', y='Valor', color='gray')"
      ],
      "execution_count": 55,
      "outputs": [
        {
          "output_type": "execute_result",
          "data": {
            "text/plain": [
              "<matplotlib.axes._subplots.AxesSubplot at 0x7f7ece132be0>"
            ]
          },
          "metadata": {
            "tags": []
          },
          "execution_count": 55
        },
        {
          "output_type": "display_data",
          "data": {
            "image/png": "[encoded data removed]",
            "text/plain": [
              "<Figure size 432x288 with 1 Axes>"
            ]
          },
          "metadata": {
            "tags": [],
            "needs_background": "light"
          }
        }
      ]
    }
  ]
}