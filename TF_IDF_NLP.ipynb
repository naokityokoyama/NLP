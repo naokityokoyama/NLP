{
  "nbformat": 4,
  "nbformat_minor": 0,
  "metadata": {
    "colab": {
      "name": "TF-IDF_NLP.ipynb",
      "provenance": [],
      "collapsed_sections": [],
      "toc_visible": true,
      "authorship_tag": "ABX9TyMTNyyjstMdX97ZpRlpLUli",
      "include_colab_link": true
    },
    "kernelspec": {
      "name": "python3",
      "display_name": "Python 3"
    }
  },
  "cells": [
    {
      "cell_type": "markdown",
      "metadata": {
        "id": "view-in-github",
        "colab_type": "text"
      },
      "source": [
        "<a href=\"https://colab.research.google.com/github/naokityokoyama/NLP/blob/main/TF_IDF_NLP.ipynb\" target=\"_parent\"><img src=\"https://colab.research.google.com/assets/colab-badge.svg\" alt=\"Open In Colab\"/></a>"
      ]
    },
    {
      "cell_type": "markdown",
      "metadata": {
        "id": "b4oPwobi8JKw"
      },
      "source": [
        "## TF \n",
        "é a frequencia com que uma palavra aparece numa dada frase, com respeito ao tamanho desta frase. Com isso, TF basicamentecaptura a importancia de uma palavra, independentemente do tamanho da frase da qual ela faça parte\n",
        "EX palavra com fequencia 8 com tamanho 20 e a mesma palavra de tamanho 8 mas com tamanho 200 no caso o TF vai dar mais impotancia para o 1 frase\n",
        "\n",
        "## IDF\n",
        "enquanto TF captura a importancia de uma palavra num doc especifico do conj de dados, o IDF mede a relevancia dessa mesma paralavra em todos os outros doc onde ela aparece\n",
        "\n",
        "##TF-IDF \n",
        "equilobra o 'jogo' onde as palavras que aparecem menos são mais raras e com isso terão valores para se equilibrar com palabras que aparecem mais vezes\n",
        "\n",
        "Em outras palavras TF IDF equilibra as palavras\n"
      ]
    },
    {
      "cell_type": "code",
      "metadata": {
        "id": "OtI3jbGd_qr8"
      },
      "source": [
        "import pandas as pd"
      ],
      "execution_count": 1,
      "outputs": []
    },
    {
      "cell_type": "code",
      "metadata": {
        "id": "mahrJUEy8G2G"
      },
      "source": [
        "from sklearn.feature_extraction.text import TfidfVectorizer"
      ],
      "execution_count": 2,
      "outputs": []
    },
    {
      "cell_type": "code",
      "metadata": {
        "id": "hIZPK1YF-UpJ",
        "outputId": "9d70a94f-1793-4d21-dfd0-7ed0dc37ba9b",
        "colab": {
          "base_uri": "https://localhost:8080/"
        }
      },
      "source": [
        "texto = ['O ladrão foi visto roubando um banco', 'depois de roubar o banco, o ladrão saiu correndo', 'o ladrão foi visto descasnando no banco da praça']\n",
        "\n",
        "vectorize = TfidfVectorizer()\n",
        "\n",
        "vectorize.fit(texto)"
      ],
      "execution_count": 3,
      "outputs": [
        {
          "output_type": "execute_result",
          "data": {
            "text/plain": [
              "TfidfVectorizer(analyzer='word', binary=False, decode_error='strict',\n",
              "                dtype=<class 'numpy.float64'>, encoding='utf-8',\n",
              "                input='content', lowercase=True, max_df=1.0, max_features=None,\n",
              "                min_df=1, ngram_range=(1, 1), norm='l2', preprocessor=None,\n",
              "                smooth_idf=True, stop_words=None, strip_accents=None,\n",
              "                sublinear_tf=False, token_pattern='(?u)\\\\b\\\\w\\\\w+\\\\b',\n",
              "                tokenizer=None, use_idf=True, vocabulary=None)"
            ]
          },
          "metadata": {
            "tags": []
          },
          "execution_count": 3
        }
      ]
    },
    {
      "cell_type": "code",
      "metadata": {
        "id": "Rp1zRi6e_H8v",
        "outputId": "8e730759-1b1d-4ac8-93bd-8ec62a0538fe",
        "colab": {
          "base_uri": "https://localhost:8080/"
        }
      },
      "source": [
        "vocabulario = vectorize.vocabulary_\n",
        "vocabulario"
      ],
      "execution_count": 101,
      "outputs": [
        {
          "output_type": "execute_result",
          "data": {
            "text/plain": [
              "{'banco': 0,\n",
              " 'correndo': 1,\n",
              " 'da': 2,\n",
              " 'de': 3,\n",
              " 'depois': 4,\n",
              " 'descasnando': 5,\n",
              " 'foi': 6,\n",
              " 'ladrão': 7,\n",
              " 'no': 8,\n",
              " 'praça': 9,\n",
              " 'roubando': 10,\n",
              " 'roubar': 11,\n",
              " 'saiu': 12,\n",
              " 'um': 13,\n",
              " 'visto': 14}"
            ]
          },
          "metadata": {
            "tags": []
          },
          "execution_count": 101
        }
      ]
    },
    {
      "cell_type": "code",
      "metadata": {
        "id": "0jkh6xqVYjAT",
        "outputId": "f5830674-de69-4baa-ef71-8658bd6bd457",
        "colab": {
          "base_uri": "https://localhost:8080/",
          "height": 514
        }
      },
      "source": [
        "pd.DataFrame(vocabulario.items(), index=vocabulario.values())"
      ],
      "execution_count": 231,
      "outputs": [
        {
          "output_type": "execute_result",
          "data": {
            "text/html": [
              "<div>\n",
              "<style scoped>\n",
              "    .dataframe tbody tr th:only-of-type {\n",
              "        vertical-align: middle;\n",
              "    }\n",
              "\n",
              "    .dataframe tbody tr th {\n",
              "        vertical-align: top;\n",
              "    }\n",
              "\n",
              "    .dataframe thead th {\n",
              "        text-align: right;\n",
              "    }\n",
              "</style>\n",
              "<table border=\"1\" class=\"dataframe\">\n",
              "  <thead>\n",
              "    <tr style=\"text-align: right;\">\n",
              "      <th></th>\n",
              "      <th>0</th>\n",
              "      <th>1</th>\n",
              "    </tr>\n",
              "  </thead>\n",
              "  <tbody>\n",
              "    <tr>\n",
              "      <th>7</th>\n",
              "      <td>ladrão</td>\n",
              "      <td>7</td>\n",
              "    </tr>\n",
              "    <tr>\n",
              "      <th>6</th>\n",
              "      <td>foi</td>\n",
              "      <td>6</td>\n",
              "    </tr>\n",
              "    <tr>\n",
              "      <th>14</th>\n",
              "      <td>visto</td>\n",
              "      <td>14</td>\n",
              "    </tr>\n",
              "    <tr>\n",
              "      <th>10</th>\n",
              "      <td>roubando</td>\n",
              "      <td>10</td>\n",
              "    </tr>\n",
              "    <tr>\n",
              "      <th>13</th>\n",
              "      <td>um</td>\n",
              "      <td>13</td>\n",
              "    </tr>\n",
              "    <tr>\n",
              "      <th>0</th>\n",
              "      <td>banco</td>\n",
              "      <td>0</td>\n",
              "    </tr>\n",
              "    <tr>\n",
              "      <th>4</th>\n",
              "      <td>depois</td>\n",
              "      <td>4</td>\n",
              "    </tr>\n",
              "    <tr>\n",
              "      <th>3</th>\n",
              "      <td>de</td>\n",
              "      <td>3</td>\n",
              "    </tr>\n",
              "    <tr>\n",
              "      <th>11</th>\n",
              "      <td>roubar</td>\n",
              "      <td>11</td>\n",
              "    </tr>\n",
              "    <tr>\n",
              "      <th>12</th>\n",
              "      <td>saiu</td>\n",
              "      <td>12</td>\n",
              "    </tr>\n",
              "    <tr>\n",
              "      <th>1</th>\n",
              "      <td>correndo</td>\n",
              "      <td>1</td>\n",
              "    </tr>\n",
              "    <tr>\n",
              "      <th>5</th>\n",
              "      <td>descasnando</td>\n",
              "      <td>5</td>\n",
              "    </tr>\n",
              "    <tr>\n",
              "      <th>8</th>\n",
              "      <td>no</td>\n",
              "      <td>8</td>\n",
              "    </tr>\n",
              "    <tr>\n",
              "      <th>2</th>\n",
              "      <td>da</td>\n",
              "      <td>2</td>\n",
              "    </tr>\n",
              "    <tr>\n",
              "      <th>9</th>\n",
              "      <td>praça</td>\n",
              "      <td>9</td>\n",
              "    </tr>\n",
              "  </tbody>\n",
              "</table>\n",
              "</div>"
            ],
            "text/plain": [
              "              0   1\n",
              "7        ladrão   7\n",
              "6           foi   6\n",
              "14        visto  14\n",
              "10     roubando  10\n",
              "13           um  13\n",
              "0         banco   0\n",
              "4        depois   4\n",
              "3            de   3\n",
              "11       roubar  11\n",
              "12         saiu  12\n",
              "1      correndo   1\n",
              "5   descasnando   5\n",
              "8            no   8\n",
              "2            da   2\n",
              "9         praça   9"
            ]
          },
          "metadata": {
            "tags": []
          },
          "execution_count": 231
        }
      ]
    },
    {
      "cell_type": "code",
      "metadata": {
        "id": "sT0iVe1j_WJN",
        "outputId": "526e233c-d799-48cb-a6e5-4fef870c6782",
        "colab": {
          "base_uri": "https://localhost:8080/"
        }
      },
      "source": [
        "idf = vectorize.idf_\n",
        "\n",
        "idf = pd.Series(idf)\n",
        "idf"
      ],
      "execution_count": 100,
      "outputs": [
        {
          "output_type": "execute_result",
          "data": {
            "text/plain": [
              "0     1.000000\n",
              "1     1.693147\n",
              "2     1.693147\n",
              "3     1.693147\n",
              "4     1.693147\n",
              "5     1.693147\n",
              "6     1.287682\n",
              "7     1.000000\n",
              "8     1.693147\n",
              "9     1.693147\n",
              "10    1.693147\n",
              "11    1.693147\n",
              "12    1.693147\n",
              "13    1.693147\n",
              "14    1.287682\n",
              "dtype: float64"
            ]
          },
          "metadata": {
            "tags": []
          },
          "execution_count": 100
        }
      ]
    },
    {
      "cell_type": "code",
      "metadata": {
        "id": "s16neXw635T-",
        "outputId": "c72c3123-e416-45da-a986-0d45e2494aa4",
        "colab": {
          "base_uri": "https://localhost:8080/",
          "height": 163
        }
      },
      "source": [
        "pd.DataFrame(list(vocabulario.keys(), "
      ],
      "execution_count": 109,
      "outputs": [
        {
          "output_type": "error",
          "ename": "TypeError",
          "evalue": "ignored",
          "traceback": [
            "\u001b[0;31m---------------------------------------------------------------------------\u001b[0m",
            "\u001b[0;31mTypeError\u001b[0m                                 Traceback (most recent call last)",
            "\u001b[0;32m<ipython-input-109-a4a75c6ddda5>\u001b[0m in \u001b[0;36m<module>\u001b[0;34m()\u001b[0m\n\u001b[0;32m----> 1\u001b[0;31m \u001b[0mpd\u001b[0m\u001b[0;34m.\u001b[0m\u001b[0mDataFrame\u001b[0m\u001b[0;34m(\u001b[0m\u001b[0mlist\u001b[0m\u001b[0;34m(\u001b[0m\u001b[0mvocabulario\u001b[0m\u001b[0;34m.\u001b[0m\u001b[0mkeys\u001b[0m\u001b[0;34m(\u001b[0m\u001b[0;34m)\u001b[0m\u001b[0;34m,\u001b[0m \u001b[0mvocabulario\u001b[0m\u001b[0;34m.\u001b[0m\u001b[0mvalues\u001b[0m\u001b[0;34m(\u001b[0m\u001b[0;34m)\u001b[0m\u001b[0;34m)\u001b[0m\u001b[0;34m)\u001b[0m\u001b[0;34m\u001b[0m\u001b[0;34m\u001b[0m\u001b[0m\n\u001b[0m",
            "\u001b[0;31mTypeError\u001b[0m: list() takes at most 1 argument (2 given)"
          ]
        }
      ]
    },
    {
      "cell_type": "code",
      "metadata": {
        "id": "TOtEAWqQ_wXV"
      },
      "source": [
        "d = pd.DataFrame([vocabulario]).T\n"
      ],
      "execution_count": 55,
      "outputs": []
    },
    {
      "cell_type": "code",
      "metadata": {
        "id": "vnqBUklv1arG",
        "outputId": "17925894-96ef-46dd-faf2-110689d75317",
        "colab": {
          "base_uri": "https://localhost:8080/",
          "height": 514
        }
      },
      "source": [
        "idf_frame = pd.DataFrame([idf]).T\n",
        "idf_frame"
      ],
      "execution_count": 54,
      "outputs": [
        {
          "output_type": "execute_result",
          "data": {
            "text/html": [
              "<div>\n",
              "<style scoped>\n",
              "    .dataframe tbody tr th:only-of-type {\n",
              "        vertical-align: middle;\n",
              "    }\n",
              "\n",
              "    .dataframe tbody tr th {\n",
              "        vertical-align: top;\n",
              "    }\n",
              "\n",
              "    .dataframe thead th {\n",
              "        text-align: right;\n",
              "    }\n",
              "</style>\n",
              "<table border=\"1\" class=\"dataframe\">\n",
              "  <thead>\n",
              "    <tr style=\"text-align: right;\">\n",
              "      <th></th>\n",
              "      <th>0</th>\n",
              "    </tr>\n",
              "  </thead>\n",
              "  <tbody>\n",
              "    <tr>\n",
              "      <th>0</th>\n",
              "      <td>1.000000</td>\n",
              "    </tr>\n",
              "    <tr>\n",
              "      <th>1</th>\n",
              "      <td>1.693147</td>\n",
              "    </tr>\n",
              "    <tr>\n",
              "      <th>2</th>\n",
              "      <td>1.693147</td>\n",
              "    </tr>\n",
              "    <tr>\n",
              "      <th>3</th>\n",
              "      <td>1.693147</td>\n",
              "    </tr>\n",
              "    <tr>\n",
              "      <th>4</th>\n",
              "      <td>1.693147</td>\n",
              "    </tr>\n",
              "    <tr>\n",
              "      <th>5</th>\n",
              "      <td>1.693147</td>\n",
              "    </tr>\n",
              "    <tr>\n",
              "      <th>6</th>\n",
              "      <td>1.287682</td>\n",
              "    </tr>\n",
              "    <tr>\n",
              "      <th>7</th>\n",
              "      <td>1.000000</td>\n",
              "    </tr>\n",
              "    <tr>\n",
              "      <th>8</th>\n",
              "      <td>1.693147</td>\n",
              "    </tr>\n",
              "    <tr>\n",
              "      <th>9</th>\n",
              "      <td>1.693147</td>\n",
              "    </tr>\n",
              "    <tr>\n",
              "      <th>10</th>\n",
              "      <td>1.693147</td>\n",
              "    </tr>\n",
              "    <tr>\n",
              "      <th>11</th>\n",
              "      <td>1.693147</td>\n",
              "    </tr>\n",
              "    <tr>\n",
              "      <th>12</th>\n",
              "      <td>1.693147</td>\n",
              "    </tr>\n",
              "    <tr>\n",
              "      <th>13</th>\n",
              "      <td>1.693147</td>\n",
              "    </tr>\n",
              "    <tr>\n",
              "      <th>14</th>\n",
              "      <td>1.287682</td>\n",
              "    </tr>\n",
              "  </tbody>\n",
              "</table>\n",
              "</div>"
            ],
            "text/plain": [
              "           0\n",
              "0   1.000000\n",
              "1   1.693147\n",
              "2   1.693147\n",
              "3   1.693147\n",
              "4   1.693147\n",
              "5   1.693147\n",
              "6   1.287682\n",
              "7   1.000000\n",
              "8   1.693147\n",
              "9   1.693147\n",
              "10  1.693147\n",
              "11  1.693147\n",
              "12  1.693147\n",
              "13  1.693147\n",
              "14  1.287682"
            ]
          },
          "metadata": {
            "tags": []
          },
          "execution_count": 54
        }
      ]
    },
    {
      "cell_type": "code",
      "metadata": {
        "id": "3gRaC6GR3XoB",
        "outputId": "3e7765ec-7da3-4412-8df2-a5041765dae9",
        "colab": {
          "base_uri": "https://localhost:8080/",
          "height": 979
        }
      },
      "source": [
        "pd.concat([idf_frame, d])"
      ],
      "execution_count": 61,
      "outputs": [
        {
          "output_type": "execute_result",
          "data": {
            "text/html": [
              "<div>\n",
              "<style scoped>\n",
              "    .dataframe tbody tr th:only-of-type {\n",
              "        vertical-align: middle;\n",
              "    }\n",
              "\n",
              "    .dataframe tbody tr th {\n",
              "        vertical-align: top;\n",
              "    }\n",
              "\n",
              "    .dataframe thead th {\n",
              "        text-align: right;\n",
              "    }\n",
              "</style>\n",
              "<table border=\"1\" class=\"dataframe\">\n",
              "  <thead>\n",
              "    <tr style=\"text-align: right;\">\n",
              "      <th></th>\n",
              "      <th>0</th>\n",
              "    </tr>\n",
              "  </thead>\n",
              "  <tbody>\n",
              "    <tr>\n",
              "      <th>0</th>\n",
              "      <td>1.000000</td>\n",
              "    </tr>\n",
              "    <tr>\n",
              "      <th>1</th>\n",
              "      <td>1.693147</td>\n",
              "    </tr>\n",
              "    <tr>\n",
              "      <th>2</th>\n",
              "      <td>1.693147</td>\n",
              "    </tr>\n",
              "    <tr>\n",
              "      <th>3</th>\n",
              "      <td>1.693147</td>\n",
              "    </tr>\n",
              "    <tr>\n",
              "      <th>4</th>\n",
              "      <td>1.693147</td>\n",
              "    </tr>\n",
              "    <tr>\n",
              "      <th>5</th>\n",
              "      <td>1.693147</td>\n",
              "    </tr>\n",
              "    <tr>\n",
              "      <th>6</th>\n",
              "      <td>1.287682</td>\n",
              "    </tr>\n",
              "    <tr>\n",
              "      <th>7</th>\n",
              "      <td>1.000000</td>\n",
              "    </tr>\n",
              "    <tr>\n",
              "      <th>8</th>\n",
              "      <td>1.693147</td>\n",
              "    </tr>\n",
              "    <tr>\n",
              "      <th>9</th>\n",
              "      <td>1.693147</td>\n",
              "    </tr>\n",
              "    <tr>\n",
              "      <th>10</th>\n",
              "      <td>1.693147</td>\n",
              "    </tr>\n",
              "    <tr>\n",
              "      <th>11</th>\n",
              "      <td>1.693147</td>\n",
              "    </tr>\n",
              "    <tr>\n",
              "      <th>12</th>\n",
              "      <td>1.693147</td>\n",
              "    </tr>\n",
              "    <tr>\n",
              "      <th>13</th>\n",
              "      <td>1.693147</td>\n",
              "    </tr>\n",
              "    <tr>\n",
              "      <th>14</th>\n",
              "      <td>1.287682</td>\n",
              "    </tr>\n",
              "    <tr>\n",
              "      <th>ladrão</th>\n",
              "      <td>7.000000</td>\n",
              "    </tr>\n",
              "    <tr>\n",
              "      <th>foi</th>\n",
              "      <td>6.000000</td>\n",
              "    </tr>\n",
              "    <tr>\n",
              "      <th>visto</th>\n",
              "      <td>14.000000</td>\n",
              "    </tr>\n",
              "    <tr>\n",
              "      <th>roubando</th>\n",
              "      <td>10.000000</td>\n",
              "    </tr>\n",
              "    <tr>\n",
              "      <th>um</th>\n",
              "      <td>13.000000</td>\n",
              "    </tr>\n",
              "    <tr>\n",
              "      <th>banco</th>\n",
              "      <td>0.000000</td>\n",
              "    </tr>\n",
              "    <tr>\n",
              "      <th>depois</th>\n",
              "      <td>4.000000</td>\n",
              "    </tr>\n",
              "    <tr>\n",
              "      <th>de</th>\n",
              "      <td>3.000000</td>\n",
              "    </tr>\n",
              "    <tr>\n",
              "      <th>roubar</th>\n",
              "      <td>11.000000</td>\n",
              "    </tr>\n",
              "    <tr>\n",
              "      <th>saiu</th>\n",
              "      <td>12.000000</td>\n",
              "    </tr>\n",
              "    <tr>\n",
              "      <th>correndo</th>\n",
              "      <td>1.000000</td>\n",
              "    </tr>\n",
              "    <tr>\n",
              "      <th>descasnando</th>\n",
              "      <td>5.000000</td>\n",
              "    </tr>\n",
              "    <tr>\n",
              "      <th>no</th>\n",
              "      <td>8.000000</td>\n",
              "    </tr>\n",
              "    <tr>\n",
              "      <th>da</th>\n",
              "      <td>2.000000</td>\n",
              "    </tr>\n",
              "    <tr>\n",
              "      <th>praça</th>\n",
              "      <td>9.000000</td>\n",
              "    </tr>\n",
              "  </tbody>\n",
              "</table>\n",
              "</div>"
            ],
            "text/plain": [
              "                     0\n",
              "0             1.000000\n",
              "1             1.693147\n",
              "2             1.693147\n",
              "3             1.693147\n",
              "4             1.693147\n",
              "5             1.693147\n",
              "6             1.287682\n",
              "7             1.000000\n",
              "8             1.693147\n",
              "9             1.693147\n",
              "10            1.693147\n",
              "11            1.693147\n",
              "12            1.693147\n",
              "13            1.693147\n",
              "14            1.287682\n",
              "ladrão        7.000000\n",
              "foi           6.000000\n",
              "visto        14.000000\n",
              "roubando     10.000000\n",
              "um           13.000000\n",
              "banco         0.000000\n",
              "depois        4.000000\n",
              "de            3.000000\n",
              "roubar       11.000000\n",
              "saiu         12.000000\n",
              "correndo      1.000000\n",
              "descasnando   5.000000\n",
              "no            8.000000\n",
              "da            2.000000\n",
              "praça         9.000000"
            ]
          },
          "metadata": {
            "tags": []
          },
          "execution_count": 61
        }
      ]
    },
    {
      "cell_type": "code",
      "metadata": {
        "id": "CAaWG0R0O_li",
        "outputId": "90dffcb5-c1dd-485d-9290-4dac541b6b1a",
        "colab": {
          "base_uri": "https://localhost:8080/"
        }
      },
      "source": [
        "!pip install unidecode"
      ],
      "execution_count": 91,
      "outputs": [
        {
          "output_type": "stream",
          "text": [
            "Collecting unidecode\n",
            "\u001b[?25l  Downloading https://files.pythonhosted.org/packages/d0/42/d9edfed04228bacea2d824904cae367ee9efd05e6cce7ceaaedd0b0ad964/Unidecode-1.1.1-py2.py3-none-any.whl (238kB)\n",
            "\r\u001b[K     |█▍                              | 10kB 11.7MB/s eta 0:00:01\r\u001b[K     |██▊                             | 20kB 16.0MB/s eta 0:00:01\r\u001b[K     |████▏                           | 30kB 13.5MB/s eta 0:00:01\r\u001b[K     |█████▌                          | 40kB 9.4MB/s eta 0:00:01\r\u001b[K     |██████▉                         | 51kB 4.3MB/s eta 0:00:01\r\u001b[K     |████████▎                       | 61kB 4.6MB/s eta 0:00:01\r\u001b[K     |█████████▋                      | 71kB 5.0MB/s eta 0:00:01\r\u001b[K     |███████████                     | 81kB 5.4MB/s eta 0:00:01\r\u001b[K     |████████████▍                   | 92kB 5.5MB/s eta 0:00:01\r\u001b[K     |█████████████▊                  | 102kB 5.7MB/s eta 0:00:01\r\u001b[K     |███████████████▏                | 112kB 5.7MB/s eta 0:00:01\r\u001b[K     |████████████████▌               | 122kB 5.7MB/s eta 0:00:01\r\u001b[K     |█████████████████▉              | 133kB 5.7MB/s eta 0:00:01\r\u001b[K     |███████████████████▎            | 143kB 5.7MB/s eta 0:00:01\r\u001b[K     |████████████████████▋           | 153kB 5.7MB/s eta 0:00:01\r\u001b[K     |██████████████████████          | 163kB 5.7MB/s eta 0:00:01\r\u001b[K     |███████████████████████▍        | 174kB 5.7MB/s eta 0:00:01\r\u001b[K     |████████████████████████▊       | 184kB 5.7MB/s eta 0:00:01\r\u001b[K     |██████████████████████████▏     | 194kB 5.7MB/s eta 0:00:01\r\u001b[K     |███████████████████████████▌    | 204kB 5.7MB/s eta 0:00:01\r\u001b[K     |████████████████████████████▉   | 215kB 5.7MB/s eta 0:00:01\r\u001b[K     |██████████████████████████████▎ | 225kB 5.7MB/s eta 0:00:01\r\u001b[K     |███████████████████████████████▋| 235kB 5.7MB/s eta 0:00:01\r\u001b[K     |████████████████████████████████| 245kB 5.7MB/s \n",
            "\u001b[?25hInstalling collected packages: unidecode\n",
            "Successfully installed unidecode-1.1.1\n"
          ],
          "name": "stdout"
        }
      ]
    },
    {
      "cell_type": "code",
      "metadata": {
        "id": "sZ3OC6nI8ZSk"
      },
      "source": [
        "import pandas as pd\n",
        "import joblib\n",
        "from sklearn.model_selection import train_test_split\n",
        "from sklearn.feature_extraction.text import TfidfVectorizer\n",
        "from sklearn.preprocessing import LabelEncoder\n",
        "from sklearn.svm import LinearSVC\n",
        "from sklearn.metrics import accuracy_score, classification_report\n",
        "from sklearn.pipeline import Pipeline\n",
        "import matplotlib.pyplot as plt\n",
        "import seaborn as sns\n",
        "from unidecode import unidecode"
      ],
      "execution_count": 98,
      "outputs": []
    },
    {
      "cell_type": "code",
      "metadata": {
        "id": "CNUnDVyNHXxg",
        "outputId": "550f443e-25db-4a01-8e99-a5a839912398",
        "colab": {
          "base_uri": "https://localhost:8080/",
          "height": 142
        }
      },
      "source": [
        "train_df = pd.read_csv('/content/news_headlines.csv')\n",
        "train_df.head(3)"
      ],
      "execution_count": 99,
      "outputs": [
        {
          "output_type": "execute_result",
          "data": {
            "text/html": [
              "<div>\n",
              "<style scoped>\n",
              "    .dataframe tbody tr th:only-of-type {\n",
              "        vertical-align: middle;\n",
              "    }\n",
              "\n",
              "    .dataframe tbody tr th {\n",
              "        vertical-align: top;\n",
              "    }\n",
              "\n",
              "    .dataframe thead th {\n",
              "        text-align: right;\n",
              "    }\n",
              "</style>\n",
              "<table border=\"1\" class=\"dataframe\">\n",
              "  <thead>\n",
              "    <tr style=\"text-align: right;\">\n",
              "      <th></th>\n",
              "      <th>post</th>\n",
              "      <th>tags</th>\n",
              "    </tr>\n",
              "  </thead>\n",
              "  <tbody>\n",
              "    <tr>\n",
              "      <th>0</th>\n",
              "      <td>após quentinhas e alimentação cortada vasco ac...</td>\n",
              "      <td>esporte</td>\n",
              "    </tr>\n",
              "    <tr>\n",
              "      <th>1</th>\n",
              "      <td>até os &lt;digit&gt;&lt;digit&gt; dá para sonhar diz idoso...</td>\n",
              "      <td>educacao</td>\n",
              "    </tr>\n",
              "    <tr>\n",
              "      <th>2</th>\n",
              "      <td>brigadeiro da aprovação oração mãe e filha jun...</td>\n",
              "      <td>educacao</td>\n",
              "    </tr>\n",
              "  </tbody>\n",
              "</table>\n",
              "</div>"
            ],
            "text/plain": [
              "                                                post      tags\n",
              "0  após quentinhas e alimentação cortada vasco ac...   esporte\n",
              "1  até os <digit><digit> dá para sonhar diz idoso...  educacao\n",
              "2  brigadeiro da aprovação oração mãe e filha jun...  educacao"
            ]
          },
          "metadata": {
            "tags": []
          },
          "execution_count": 99
        }
      ]
    },
    {
      "cell_type": "code",
      "metadata": {
        "id": "HOcEAWPnHoJH",
        "outputId": "5da70a75-f9bc-403f-9030-d99e46c5f426",
        "colab": {
          "base_uri": "https://localhost:8080/",
          "height": 296
        }
      },
      "source": [
        "sns.countplot(y='tags', data=train_df, palette='pastel')"
      ],
      "execution_count": 100,
      "outputs": [
        {
          "output_type": "execute_result",
          "data": {
            "text/plain": [
              "<matplotlib.axes._subplots.AxesSubplot at 0x7f184023c6a0>"
            ]
          },
          "metadata": {
            "tags": []
          },
          "execution_count": 100
        },
        {
          "output_type": "display_data",
          "data": {
            "image/png": "[encoded data removed]",
            "text/plain": [
              "<Figure size 432x288 with 1 Axes>"
            ]
          },
          "metadata": {
            "tags": [],
            "needs_background": "light"
          }
        }
      ]
    },
    {
      "cell_type": "code",
      "metadata": {
        "id": "-Q1isU21HymP"
      },
      "source": [
        "#Label Encoder\n",
        "le = LabelEncoder()\n",
        "y= le.fit_transform(train_df['tags'])"
      ],
      "execution_count": 101,
      "outputs": []
    },
    {
      "cell_type": "code",
      "metadata": {
        "id": "QqJuR1T5IYiY",
        "outputId": "f76cefe4-b9b5-41de-9928-97028e3d2bc6",
        "colab": {
          "base_uri": "https://localhost:8080/"
        }
      },
      "source": [
        "print (y)\n",
        "print (le.classes_)"
      ],
      "execution_count": 102,
      "outputs": [
        {
          "output_type": "stream",
          "text": [
            "[3 2 2 ... 3 4 3]\n",
            "['carros' 'economia' 'educacao' 'esporte' 'musica' 'politica']\n"
          ],
          "name": "stdout"
        }
      ]
    },
    {
      "cell_type": "code",
      "metadata": {
        "id": "bbVnCJJ3VnC-"
      },
      "source": [
        "X = train_df['post']"
      ],
      "execution_count": 103,
      "outputs": []
    },
    {
      "cell_type": "code",
      "metadata": {
        "id": "Zzy80GiQIi88"
      },
      "source": [
        "X_train, X_test, y_train, y_test = train_test_split(X,y , test_size=0.2, random_state=5)"
      ],
      "execution_count": 104,
      "outputs": []
    },
    {
      "cell_type": "code",
      "metadata": {
        "id": "BXZuh4Y1NS53"
      },
      "source": [
        "pipeline = Pipeline([\n",
        "                     ('vectorizer', TfidfVectorizer()),\n",
        "                     ('clf', LinearSVC())\n",
        "])"
      ],
      "execution_count": 105,
      "outputs": []
    },
    {
      "cell_type": "code",
      "metadata": {
        "id": "5q2O7qi6NwcV",
        "outputId": "8062667e-889b-420c-c25e-a9e64f5c40d8",
        "colab": {
          "base_uri": "https://localhost:8080/"
        }
      },
      "source": [
        "pipeline.steps"
      ],
      "execution_count": 106,
      "outputs": [
        {
          "output_type": "execute_result",
          "data": {
            "text/plain": [
              "[('vectorizer',\n",
              "  TfidfVectorizer(analyzer='word', binary=False, decode_error='strict',\n",
              "                  dtype=<class 'numpy.float64'>, encoding='utf-8',\n",
              "                  input='content', lowercase=True, max_df=1.0, max_features=None,\n",
              "                  min_df=1, ngram_range=(1, 1), norm='l2', preprocessor=None,\n",
              "                  smooth_idf=True, stop_words=None, strip_accents=None,\n",
              "                  sublinear_tf=False, token_pattern='(?u)\\\\b\\\\w\\\\w+\\\\b',\n",
              "                  tokenizer=None, use_idf=True, vocabulary=None)),\n",
              " ('clf', LinearSVC(C=1.0, class_weight=None, dual=True, fit_intercept=True,\n",
              "            intercept_scaling=1, loss='squared_hinge', max_iter=1000,\n",
              "            multi_class='ovr', penalty='l2', random_state=None, tol=0.0001,\n",
              "            verbose=0))]"
            ]
          },
          "metadata": {
            "tags": []
          },
          "execution_count": 106
        }
      ]
    },
    {
      "cell_type": "code",
      "metadata": {
        "id": "8t8E6jwBN1m1",
        "outputId": "a0991e97-5ae5-4aa8-efd9-ed9f51490aca",
        "colab": {
          "base_uri": "https://localhost:8080/"
        }
      },
      "source": [
        "pipeline.fit(X_train, y_train)"
      ],
      "execution_count": 107,
      "outputs": [
        {
          "output_type": "execute_result",
          "data": {
            "text/plain": [
              "Pipeline(memory=None,\n",
              "         steps=[('vectorizer',\n",
              "                 TfidfVectorizer(analyzer='word', binary=False,\n",
              "                                 decode_error='strict',\n",
              "                                 dtype=<class 'numpy.float64'>,\n",
              "                                 encoding='utf-8', input='content',\n",
              "                                 lowercase=True, max_df=1.0, max_features=None,\n",
              "                                 min_df=1, ngram_range=(1, 1), norm='l2',\n",
              "                                 preprocessor=None, smooth_idf=True,\n",
              "                                 stop_words=None, strip_accents=None,\n",
              "                                 sublinear_tf=False,\n",
              "                                 token_pattern='(?u)\\\\b\\\\w\\\\w+\\\\b',\n",
              "                                 tokenizer=None, use_idf=True,\n",
              "                                 vocabulary=None)),\n",
              "                ('clf',\n",
              "                 LinearSVC(C=1.0, class_weight=None, dual=True,\n",
              "                           fit_intercept=True, intercept_scaling=1,\n",
              "                           loss='squared_hinge', max_iter=1000,\n",
              "                           multi_class='ovr', penalty='l2', random_state=None,\n",
              "                           tol=0.0001, verbose=0))],\n",
              "         verbose=False)"
            ]
          },
          "metadata": {
            "tags": []
          },
          "execution_count": 107
        }
      ]
    },
    {
      "cell_type": "code",
      "metadata": {
        "id": "RUdo7QLiVusx"
      },
      "source": [
        "y_pred = pipeline.predict(X_test)\n",
        "\n"
      ],
      "execution_count": 108,
      "outputs": []
    },
    {
      "cell_type": "code",
      "metadata": {
        "id": "uIzoQ9Y_WEph",
        "outputId": "70f924a0-adbb-4e4b-fc51-14a72304221c",
        "colab": {
          "base_uri": "https://localhost:8080/"
        }
      },
      "source": [
        "accuracy_score(y_test, y_pred)"
      ],
      "execution_count": 109,
      "outputs": [
        {
          "output_type": "execute_result",
          "data": {
            "text/plain": [
              "0.9103653355989805"
            ]
          },
          "metadata": {
            "tags": []
          },
          "execution_count": 109
        }
      ]
    },
    {
      "cell_type": "code",
      "metadata": {
        "id": "AuLYuSGIWgcV",
        "outputId": "3b8e3374-200c-4334-bb4d-a1517dccfd61",
        "colab": {
          "base_uri": "https://localhost:8080/"
        }
      },
      "source": [
        "print (classification_report(y_test, y_pred))"
      ],
      "execution_count": 110,
      "outputs": [
        {
          "output_type": "stream",
          "text": [
            "              precision    recall  f1-score   support\n",
            "\n",
            "           0       0.93      0.96      0.94       389\n",
            "           1       0.81      0.80      0.80       396\n",
            "           2       0.95      0.93      0.94       403\n",
            "           3       0.94      0.94      0.94       393\n",
            "           4       0.95      0.96      0.95       413\n",
            "           5       0.87      0.88      0.87       360\n",
            "\n",
            "    accuracy                           0.91      2354\n",
            "   macro avg       0.91      0.91      0.91      2354\n",
            "weighted avg       0.91      0.91      0.91      2354\n",
            "\n"
          ],
          "name": "stdout"
        }
      ]
    },
    {
      "cell_type": "code",
      "metadata": {
        "id": "EbOd2YOEWvdf",
        "outputId": "3af660bc-e5c4-4cec-d5b1-bab3c5e197ae",
        "colab": {
          "base_uri": "https://localhost:8080/"
        }
      },
      "source": [
        "le.classes_"
      ],
      "execution_count": 111,
      "outputs": [
        {
          "output_type": "execute_result",
          "data": {
            "text/plain": [
              "array(['carros', 'economia', 'educacao', 'esporte', 'musica', 'politica'],\n",
              "      dtype=object)"
            ]
          },
          "metadata": {
            "tags": []
          },
          "execution_count": 111
        }
      ]
    },
    {
      "cell_type": "code",
      "metadata": {
        "id": "kL1yIBAOW36h",
        "outputId": "ba1d8573-fb43-474b-fb22-be76848364ef",
        "colab": {
          "base_uri": "https://localhost:8080/"
        }
      },
      "source": [
        "#noticia aleatoria\n",
        "\n",
        "frase = 'Palmeiras marca um gol no final da partida'\n",
        "\n",
        "predictian = pipeline.predict([frase])\n",
        "predictian"
      ],
      "execution_count": 112,
      "outputs": [
        {
          "output_type": "execute_result",
          "data": {
            "text/plain": [
              "array([3])"
            ]
          },
          "metadata": {
            "tags": []
          },
          "execution_count": 112
        }
      ]
    },
    {
      "cell_type": "code",
      "metadata": {
        "id": "JWiyl6xsXVxy",
        "outputId": "0fe2b81c-58e6-4f80-88f4-d04c48029f8b",
        "colab": {
          "base_uri": "https://localhost:8080/"
        }
      },
      "source": [
        "le.inverse_transform(predictian)"
      ],
      "execution_count": 113,
      "outputs": [
        {
          "output_type": "execute_result",
          "data": {
            "text/plain": [
              "array(['esporte'], dtype=object)"
            ]
          },
          "metadata": {
            "tags": []
          },
          "execution_count": 113
        }
      ]
    },
    {
      "cell_type": "code",
      "metadata": {
        "id": "b6GMX78gXmJv",
        "outputId": "9ed2cf82-0fbb-46c1-b9e4-39cb893bd034",
        "colab": {
          "base_uri": "https://localhost:8080/",
          "height": 35
        }
      },
      "source": [
        "#noticia aleatoria 2 \n",
        "\n",
        "frase2 = 'Marron 5 inicia sua turnê pelo Brasil amanha'\n",
        "\n",
        "predictian = pipeline.predict([frase2])\n",
        "\n",
        "le.inverse_transform(predictian)[0]"
      ],
      "execution_count": 114,
      "outputs": [
        {
          "output_type": "execute_result",
          "data": {
            "application/vnd.google.colaboratory.intrinsic+json": {
              "type": "string"
            },
            "text/plain": [
              "'musica'"
            ]
          },
          "metadata": {
            "tags": []
          },
          "execution_count": 114
        }
      ]
    },
    {
      "cell_type": "code",
      "metadata": {
        "id": "PBu7ecASYHXO",
        "outputId": "67a0beb8-5e4c-488e-e59b-bf0fa849eab6",
        "colab": {
          "base_uri": "https://localhost:8080/"
        }
      },
      "source": [
        "#expotando modelo\n",
        "\n",
        "joblib.dump(pipeline, 'model.joblib')"
      ],
      "execution_count": 116,
      "outputs": [
        {
          "output_type": "execute_result",
          "data": {
            "text/plain": [
              "['model.joblib']"
            ]
          },
          "metadata": {
            "tags": []
          },
          "execution_count": 116
        }
      ]
    },
    {
      "cell_type": "code",
      "metadata": {
        "id": "Zwl-0QGRCOa2"
      },
      "source": [
        ""
      ],
      "execution_count": null,
      "outputs": []
    }
  ]
}